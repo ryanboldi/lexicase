{
 "cells": [
  {
   "cell_type": "markdown",
   "metadata": {
    "vscode": {
     "languageId": "raw"
    }
   },
   "source": [
    "# Lexicase Selection Demo\n",
    "\n",
    "A simple demonstration of lexicase selection for parent selection in evolutionary computation.\n"
   ]
  },
  {
   "cell_type": "code",
   "execution_count": 1,
   "metadata": {},
   "outputs": [],
   "source": [
    "import numpy as np\n",
    "import lexicase\n"
   ]
  },
  {
   "cell_type": "markdown",
   "metadata": {
    "vscode": {
     "languageId": "raw"
    }
   },
   "source": [
    "## Create Sample Data\n",
    "\n",
    "We'll create a fitness matrix where each row represents an individual and each column represents a test case. Higher values indicate better performance.\n"
   ]
  },
  {
   "cell_type": "code",
   "execution_count": 4,
   "metadata": {},
   "outputs": [
    {
     "name": "stdout",
     "output_type": "stream",
     "text": [
      "Fitness Matrix:\n",
      "[[8.5 6.2 9.1 4.3 7.8]\n",
      " [7.1 9.4 5.6 8.2 6.9]\n",
      " [9.2 5.8 7.4 9.1 8.5]\n",
      " [6.3 8.7 6.8 7.5 9.2]]\n",
      "\n",
      "Shape: 4 individuals × 5 test cases\n"
     ]
    }
   ],
   "source": [
    "# Fitness matrix (4 individuals × 5 test cases)\n",
    "fitness_matrix = np.array([\n",
    "    [8.5, 6.2, 9.1, 4.3, 7.8],  # Individual 0\n",
    "    [7.1, 9.4, 5.6, 8.2, 6.9],  # Individual 1\n",
    "    [9.2, 5.8, 7.4, 9.1, 8.5],  # Individual 2\n",
    "    [6.3, 8.7, 6.8, 7.5, 9.2]   # Individual 3\n",
    "])\n",
    "\n",
    "print(\"Fitness Matrix:\")\n",
    "print(fitness_matrix)\n",
    "print(f\"\\nShape: {fitness_matrix.shape[0]} individuals × {fitness_matrix.shape[1]} test cases\")\n"
   ]
  },
  {
   "cell_type": "markdown",
   "metadata": {
    "vscode": {
     "languageId": "raw"
    }
   },
   "source": [
    "## Standard Lexicase Selection\n"
   ]
  },
  {
   "cell_type": "code",
   "execution_count": 5,
   "metadata": {},
   "outputs": [
    {
     "name": "stdout",
     "output_type": "stream",
     "text": [
      "Selected individuals: [3 2 0 0 2 3]\n",
      "Selection frequency: [2 0 2 2]\n"
     ]
    }
   ],
   "source": [
    "# Select 6 individuals using standard lexicase\n",
    "selected = lexicase.lexicase_selection(\n",
    "    fitness_matrix, \n",
    "    num_selected=6, \n",
    "    seed=42\n",
    ")\n",
    "\n",
    "print(f\"Selected individuals: {selected}\")\n",
    "print(f\"Selection frequency: {np.bincount(selected, minlength=4)}\")\n"
   ]
  },
  {
   "cell_type": "markdown",
   "metadata": {
    "vscode": {
     "languageId": "raw"
    }
   },
   "source": [
    "## Epsilon Lexicase Selection\n",
    "\n",
    "Epsilon lexicase allows individuals within a tolerance (epsilon) of the best performance to be considered equally good, promoting diversity.\n"
   ]
  },
  {
   "cell_type": "code",
   "execution_count": 6,
   "metadata": {},
   "outputs": [
    {
     "name": "stdout",
     "output_type": "stream",
     "text": [
      "Epsilon lexicase selected: [2 2 0 0 0 2]\n",
      "Selection frequency: [3 0 3 0]\n"
     ]
    }
   ],
   "source": [
    "# Select with epsilon tolerance\n",
    "selected_eps = lexicase.epsilon_lexicase_selection(\n",
    "    fitness_matrix, \n",
    "    num_selected=6, \n",
    "    epsilon=1.0,  # Individuals within 1.0 of best are considered equal\n",
    "    seed=42\n",
    ")\n",
    "\n",
    "print(f\"Epsilon lexicase selected: {selected_eps}\")\n",
    "print(f\"Selection frequency: {np.bincount(selected_eps, minlength=4)}\")\n"
   ]
  },
  {
   "cell_type": "markdown",
   "metadata": {
    "vscode": {
     "languageId": "raw"
    }
   },
   "source": [
    "## Summary\n",
    "\n",
    "Lexicase selection evaluates individuals on test cases in random order, keeping only the best performers at each step. This creates selection pressure while maintaining diversity across different problem aspects.\n"
   ]
  },
  {
   "cell_type": "markdown",
   "metadata": {},
   "source": []
  }
 ],
 "metadata": {
  "kernelspec": {
   "display_name": "base",
   "language": "python",
   "name": "python3"
  },
  "language_info": {
   "codemirror_mode": {
    "name": "ipython",
    "version": 3
   },
   "file_extension": ".py",
   "mimetype": "text/x-python",
   "name": "python",
   "nbconvert_exporter": "python",
   "pygments_lexer": "ipython3",
   "version": "3.12.2"
  }
 },
 "nbformat": 4,
 "nbformat_minor": 2
}
